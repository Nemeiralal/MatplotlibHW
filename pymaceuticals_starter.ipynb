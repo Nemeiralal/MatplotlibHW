{
 "cells": [
  {
   "cell_type": "code",
   "execution_count": 15,
   "metadata": {},
   "outputs": [
    {
     "data": {
      "text/plain": [
       "Mouse ID              1906\n",
       "Drug                  1906\n",
       "Timepoint             1906\n",
       "Tumor Volume (mm3)    1906\n",
       "Metastatic Sites      1906\n",
       "dtype: int64"
      ]
     },
     "execution_count": 15,
     "metadata": {},
     "output_type": "execute_result"
    }
   ],
   "source": [
    "# Dependencies and Setup\n",
    "%matplotlib inline\n",
    "import matplotlib.pyplot as plt\n",
    "import pandas as pd\n",
    "import numpy as np\n",
    "\n",
    "# Hide warning messages in notebook\n",
    "import warnings\n",
    "warnings.filterwarnings('ignore')\n",
    "\n",
    "# File to Load (Remember to Change These)\n",
    "# mouse_drug_data_to_load = pd.csv_read(\"data/mouse_drug_data.csv\")\n",
    "# clinical_trial_data_to_load = \"data/clinicaltrial_data.csv\"\n",
    "mouse_dataframe = pd.read_csv(\"data/mouse_drug_data.csv\")\n",
    "trial_dataframe = pd.read_csv(\"data/clinicaltrial_data.csv\")\n",
    "\n",
    "# Read the Mouse and Drug Data and the Clinical Trial Data\n",
    "mouse_dataframe\n",
    "trial_dataframe\n",
    "\n",
    "# Combine the data into a single dataset\n",
    "sarcoma_data=pd.merge(mouse_dataframe,trial_dataframe,on = \"Mouse ID\")\n",
    "\n",
    "\n",
    "# Display the data table for preview\n",
    "\n",
    "sarcoma_data\n",
    "sarcoma_data.count()"
   ]
  },
  {
   "cell_type": "code",
   "execution_count": 16,
   "metadata": {},
   "outputs": [
    {
     "data": {
      "text/plain": [
       "Index(['Mouse ID', 'Drug', 'Timepoint', 'Tumor Volume (mm3)',\n",
       "       'Metastatic Sites'],\n",
       "      dtype='object')"
      ]
     },
     "execution_count": 16,
     "metadata": {},
     "output_type": "execute_result"
    }
   ],
   "source": [
    "sarcoma_data.columns"
   ]
  },
  {
   "cell_type": "code",
   "execution_count": 17,
   "metadata": {},
   "outputs": [
    {
     "name": "stdout",
     "output_type": "stream",
     "text": [
      "\"Tumor response to Treatment\"\n"
     ]
    },
    {
     "data": {
      "text/html": [
       "<div>\n",
       "<style scoped>\n",
       "    .dataframe tbody tr th:only-of-type {\n",
       "        vertical-align: middle;\n",
       "    }\n",
       "\n",
       "    .dataframe tbody tr th {\n",
       "        vertical-align: top;\n",
       "    }\n",
       "\n",
       "    .dataframe thead th {\n",
       "        text-align: right;\n",
       "    }\n",
       "</style>\n",
       "<table border=\"1\" class=\"dataframe\">\n",
       "  <thead>\n",
       "    <tr style=\"text-align: right;\">\n",
       "      <th></th>\n",
       "      <th></th>\n",
       "      <th>Tumor Volume (mm3)</th>\n",
       "    </tr>\n",
       "    <tr>\n",
       "      <th>Drug</th>\n",
       "      <th>Timepoint</th>\n",
       "      <th></th>\n",
       "    </tr>\n",
       "  </thead>\n",
       "  <tbody>\n",
       "    <tr>\n",
       "      <th rowspan=\"5\" valign=\"top\">Capomulin</th>\n",
       "      <th>0</th>\n",
       "      <td>45.000000</td>\n",
       "    </tr>\n",
       "    <tr>\n",
       "      <th>5</th>\n",
       "      <td>44.266086</td>\n",
       "    </tr>\n",
       "    <tr>\n",
       "      <th>10</th>\n",
       "      <td>43.084291</td>\n",
       "    </tr>\n",
       "    <tr>\n",
       "      <th>15</th>\n",
       "      <td>42.064317</td>\n",
       "    </tr>\n",
       "    <tr>\n",
       "      <th>20</th>\n",
       "      <td>40.716325</td>\n",
       "    </tr>\n",
       "  </tbody>\n",
       "</table>\n",
       "</div>"
      ],
      "text/plain": [
       "                     Tumor Volume (mm3)\n",
       "Drug      Timepoint                    \n",
       "Capomulin 0                   45.000000\n",
       "          5                   44.266086\n",
       "          10                  43.084291\n",
       "          15                  42.064317\n",
       "          20                  40.716325"
      ]
     },
     "execution_count": 17,
     "metadata": {},
     "output_type": "execute_result"
    }
   ],
   "source": [
    "## Tumor Response to Treatment\n",
    "# Store the Mean Tumor Volume Data Grouped by Drug and Timepoint\n",
    "# Convert to DataFrame\n",
    "# Preview DataFrame\n",
    "\n",
    "print('\"Tumor response to Treatment\"')\n",
    "sarcoma_data.groupby(\"Drug\")[\"Timepoint\"].count()\n",
    "tumor_response = sarcoma_data.groupby([\"Drug\", \"Timepoint\"])\n",
    "tumor_dataframe = tumor_response[\"Tumor Volume (mm3)\"].mean().to_frame()\n",
    "tumor_dataframe.head()"
   ]
  },
  {
   "cell_type": "code",
   "execution_count": 19,
   "metadata": {
    "scrolled": true
   },
   "outputs": [
    {
     "data": {
      "text/html": [
       "<div>\n",
       "<style scoped>\n",
       "    .dataframe tbody tr th:only-of-type {\n",
       "        vertical-align: middle;\n",
       "    }\n",
       "\n",
       "    .dataframe tbody tr th {\n",
       "        vertical-align: top;\n",
       "    }\n",
       "\n",
       "    .dataframe thead th {\n",
       "        text-align: right;\n",
       "    }\n",
       "</style>\n",
       "<table border=\"1\" class=\"dataframe\">\n",
       "  <thead>\n",
       "    <tr style=\"text-align: right;\">\n",
       "      <th></th>\n",
       "      <th></th>\n",
       "      <th>Tumor Volume (mm3)</th>\n",
       "    </tr>\n",
       "    <tr>\n",
       "      <th>Drug</th>\n",
       "      <th>Timepoint</th>\n",
       "      <th></th>\n",
       "    </tr>\n",
       "  </thead>\n",
       "  <tbody>\n",
       "    <tr>\n",
       "      <th rowspan=\"5\" valign=\"top\">Capomulin</th>\n",
       "      <th>0</th>\n",
       "      <td>0.000000</td>\n",
       "    </tr>\n",
       "    <tr>\n",
       "      <th>5</th>\n",
       "      <td>0.448593</td>\n",
       "    </tr>\n",
       "    <tr>\n",
       "      <th>10</th>\n",
       "      <td>0.702684</td>\n",
       "    </tr>\n",
       "    <tr>\n",
       "      <th>15</th>\n",
       "      <td>0.838617</td>\n",
       "    </tr>\n",
       "    <tr>\n",
       "      <th>20</th>\n",
       "      <td>0.909731</td>\n",
       "    </tr>\n",
       "  </tbody>\n",
       "</table>\n",
       "</div>"
      ],
      "text/plain": [
       "                     Tumor Volume (mm3)\n",
       "Drug      Timepoint                    \n",
       "Capomulin 0                    0.000000\n",
       "          5                    0.448593\n",
       "          10                   0.702684\n",
       "          15                   0.838617\n",
       "          20                   0.909731"
      ]
     },
     "execution_count": 19,
     "metadata": {},
     "output_type": "execute_result"
    }
   ],
   "source": [
    "# Store the Standard Error of Tumor Volumes Grouped by Drug and Timepoint\n",
    "# Convert to DataFrame\n",
    "# Preview DataFrame\n",
    "\n",
    "tumor_response_error = sarcoma_data.groupby([\"Drug\",\"Timepoint\"])[\"Tumor Volume (mm3)\"].sem()\n",
    "tumor_dataframe = tumor_response_error.to_frame()\n",
    "tumor_dataframe.head()"
   ]
  },
  {
   "cell_type": "code",
   "execution_count": 20,
   "metadata": {},
   "outputs": [
    {
     "data": {
      "text/plain": [
       "Index(['Tumor Volume (mm3)'], dtype='object')"
      ]
     },
     "execution_count": 20,
     "metadata": {},
     "output_type": "execute_result"
    }
   ],
   "source": [
    "tumor_dataframe.columns"
   ]
  },
  {
   "cell_type": "code",
   "execution_count": null,
   "metadata": {},
   "outputs": [],
   "source": [
    "# Minor Data Munging to Re-Format the Data Frames\n",
    "# Preview that Reformatting worked\n",
    "\n",
    "tumor_plot_pre = tumor_dataframe.unstack(0)\n",
    "tumor_plot_dataframe = tumor_plot_pre[\"Tumor Volume (mm3)\"]\n",
    "tumor_plot_dataframe.head()"
   ]
  },
  {
   "cell_type": "code",
   "execution_count": 65,
   "metadata": {
    "scrolled": true
   },
   "outputs": [
    {
     "data": {
      "image/png": "[encoded data removed]",
      "text/plain": [
       "<Figure size 720x504 with 1 Axes>"
      ]
     },
     "metadata": {
      "needs_background": "light"
     },
     "output_type": "display_data"
    },
    {
     "data": {
      "text/plain": [
       "<Figure size 432x288 with 0 Axes>"
      ]
     },
     "metadata": {},
     "output_type": "display_data"
    }
   ],
   "source": [
    "x_axis = [0,5,10,15,20,25,30,35,40,45]\n",
    "x_limit = 45\n",
    "plt.figure(figsize=(10,7))\n",
    "#plt.plot(x_axis, tumor_plot_dataframe[\"Capomulin\"])\n",
    "    \n",
    "error = tumor_dataframe[\"Tumor Volume (mm3)\"][\"Capomulin\"]\n",
    "cap=plt.errorbar(x_axis, tumor_plot_dataframe[\"Capomulin\"], yerr=error/10,\n",
    "                   fmt=\"o\", ls=\"dashed\", linewidth=1, alpha=1, capsize=3,color =\"red\",ecolor=\"purple\")\n",
    "                \n",
    "\n",
    "error = tumor_dataframe[\"Tumor Volume (mm3)\"][\"Infubinol\"]\n",
    "infu=plt.errorbar(x_axis, tumor_plot_dataframe[\"Infubinol\"], yerr=error/10, \n",
    "                    fmt=\"^\", ls=\"dashed\", elinewidth=1, alpha=1, capsize=3,color =\"blue\",ecolor=\"indigo\")\n",
    "\n",
    "error = tumor_dataframe[\"Tumor Volume (mm3)\"][\"Ketapril\"]\n",
    "keta=plt.errorbar(x_axis, tumor_plot_dataframe[\"Ketapril\"], yerr=error/10, \n",
    "                    fmt=\"s\", ls=\"dashed\", elinewidth=1, alpha=1, capsize=3,color = \"green\",ecolor=\"red\")\n",
    "\n",
    "\n",
    "error = tumor_dataframe[\"Tumor Volume (mm3)\"][\"Placebo\"]\n",
    "plac=plt.errorbar(x_axis, tumor_plot_dataframe[\"Placebo\"], yerr=error/10,\n",
    "                    fmt=\"D\", ls=\"dashed\", elinewidth=1, alpha=1, capsize=3,color=\"pink\",ecolor = \"black\")\n",
    "\n",
    "plt.title(\"Tumor Response to tumor treatment\", fontsize=20)\n",
    "plt.xlabel(\"Time (in Days)\", fontsize=13)\n",
    "plt.ylabel(\"Tumor Volume (in mm3)\", fontsize=13)\n",
    "\n",
    "plt.grid(linestyle=\"dashed\")\n",
    "plt.legend((cap, infu, keta, plac), (\"Capomulin\", \"Infubinol\", \"Ketapril\",\n",
    "                                     \"Placebo\"), fontsize=11)\n",
    "plt.show()\n",
    "# Save the Figure\n",
    "plt.savefig(\"errorbar.png\")\n"
   ]
  },
  {
   "cell_type": "code",
   "execution_count": null,
   "metadata": {
    "scrolled": true
   },
   "outputs": [],
   "source": [
    "## Metastatic Response to Treatment\n",
    "# Store the Mean Met. Site Data Grouped by Drug and Timepoint \n",
    "# Convert to DataFrame\n",
    "# Preview DataFrame\n",
    "\n",
    "sarcoma_data.groupby(\"Drug\")[\"Timepoint\"].count()\n",
    "meta_response = sarcoma_data.groupby([\"Drug\", \"Timepoint\"])\n",
    "meta_dataframe = meta_response[\"Metastatic Sites\"].mean().to_frame()\n",
    "meta_dataframe.head()"
   ]
  },
  {
   "cell_type": "code",
   "execution_count": 60,
   "metadata": {},
   "outputs": [
    {
     "data": {
      "text/html": [
       "<div>\n",
       "<style scoped>\n",
       "    .dataframe tbody tr th:only-of-type {\n",
       "        vertical-align: middle;\n",
       "    }\n",
       "\n",
       "    .dataframe tbody tr th {\n",
       "        vertical-align: top;\n",
       "    }\n",
       "\n",
       "    .dataframe thead th {\n",
       "        text-align: right;\n",
       "    }\n",
       "</style>\n",
       "<table border=\"1\" class=\"dataframe\">\n",
       "  <thead>\n",
       "    <tr style=\"text-align: right;\">\n",
       "      <th></th>\n",
       "      <th></th>\n",
       "      <th>Metastatic Sites</th>\n",
       "    </tr>\n",
       "    <tr>\n",
       "      <th>Drug</th>\n",
       "      <th>Timepoint</th>\n",
       "      <th></th>\n",
       "    </tr>\n",
       "  </thead>\n",
       "  <tbody>\n",
       "    <tr>\n",
       "      <th rowspan=\"5\" valign=\"top\">Capomulin</th>\n",
       "      <th>0</th>\n",
       "      <td>0.000000</td>\n",
       "    </tr>\n",
       "    <tr>\n",
       "      <th>5</th>\n",
       "      <td>0.074833</td>\n",
       "    </tr>\n",
       "    <tr>\n",
       "      <th>10</th>\n",
       "      <td>0.125433</td>\n",
       "    </tr>\n",
       "    <tr>\n",
       "      <th>15</th>\n",
       "      <td>0.132048</td>\n",
       "    </tr>\n",
       "    <tr>\n",
       "      <th>20</th>\n",
       "      <td>0.161621</td>\n",
       "    </tr>\n",
       "  </tbody>\n",
       "</table>\n",
       "</div>"
      ],
      "text/plain": [
       "                     Metastatic Sites\n",
       "Drug      Timepoint                  \n",
       "Capomulin 0                  0.000000\n",
       "          5                  0.074833\n",
       "          10                 0.125433\n",
       "          15                 0.132048\n",
       "          20                 0.161621"
      ]
     },
     "execution_count": 60,
     "metadata": {},
     "output_type": "execute_result"
    }
   ],
   "source": [
    "# Store the Standard Error associated with Met. Sites Grouped by Drug and Timepoint \n",
    "# Convert to DataFrame\n",
    "# Preview DataFrame\n",
    "\n",
    "meta_response_error = sarcoma_data.groupby([\"Drug\",\"Timepoint\"])[\"Metastatic Sites\"].sem()\n",
    "mre_dataframe = meta_response_error.to_frame()\n",
    "mre_dataframe.head()"
   ]
  },
  {
   "cell_type": "code",
   "execution_count": 61,
   "metadata": {},
   "outputs": [
    {
     "data": {
      "text/html": [
       "<div>\n",
       "<style scoped>\n",
       "    .dataframe tbody tr th:only-of-type {\n",
       "        vertical-align: middle;\n",
       "    }\n",
       "\n",
       "    .dataframe tbody tr th {\n",
       "        vertical-align: top;\n",
       "    }\n",
       "\n",
       "    .dataframe thead th {\n",
       "        text-align: right;\n",
       "    }\n",
       "</style>\n",
       "<table border=\"1\" class=\"dataframe\">\n",
       "  <thead>\n",
       "    <tr style=\"text-align: right;\">\n",
       "      <th>Drug</th>\n",
       "      <th>Capomulin</th>\n",
       "      <th>Ceftamin</th>\n",
       "      <th>Infubinol</th>\n",
       "      <th>Ketapril</th>\n",
       "      <th>Naftisol</th>\n",
       "      <th>Placebo</th>\n",
       "      <th>Propriva</th>\n",
       "      <th>Ramicane</th>\n",
       "      <th>Stelasyn</th>\n",
       "      <th>Zoniferol</th>\n",
       "    </tr>\n",
       "    <tr>\n",
       "      <th>Timepoint</th>\n",
       "      <th></th>\n",
       "      <th></th>\n",
       "      <th></th>\n",
       "      <th></th>\n",
       "      <th></th>\n",
       "      <th></th>\n",
       "      <th></th>\n",
       "      <th></th>\n",
       "      <th></th>\n",
       "      <th></th>\n",
       "    </tr>\n",
       "  </thead>\n",
       "  <tbody>\n",
       "    <tr>\n",
       "      <th>0</th>\n",
       "      <td>0.000000</td>\n",
       "      <td>0.000000</td>\n",
       "      <td>0.000000</td>\n",
       "      <td>0.000000</td>\n",
       "      <td>0.000000</td>\n",
       "      <td>0.000000</td>\n",
       "      <td>0.000000</td>\n",
       "      <td>0.000000</td>\n",
       "      <td>0.000000</td>\n",
       "      <td>0.000000</td>\n",
       "    </tr>\n",
       "    <tr>\n",
       "      <th>5</th>\n",
       "      <td>0.160000</td>\n",
       "      <td>0.380952</td>\n",
       "      <td>0.280000</td>\n",
       "      <td>0.304348</td>\n",
       "      <td>0.260870</td>\n",
       "      <td>0.375000</td>\n",
       "      <td>0.320000</td>\n",
       "      <td>0.120000</td>\n",
       "      <td>0.240000</td>\n",
       "      <td>0.166667</td>\n",
       "    </tr>\n",
       "    <tr>\n",
       "      <th>10</th>\n",
       "      <td>0.320000</td>\n",
       "      <td>0.600000</td>\n",
       "      <td>0.666667</td>\n",
       "      <td>0.590909</td>\n",
       "      <td>0.523810</td>\n",
       "      <td>0.833333</td>\n",
       "      <td>0.565217</td>\n",
       "      <td>0.250000</td>\n",
       "      <td>0.478261</td>\n",
       "      <td>0.500000</td>\n",
       "    </tr>\n",
       "    <tr>\n",
       "      <th>15</th>\n",
       "      <td>0.375000</td>\n",
       "      <td>0.789474</td>\n",
       "      <td>0.904762</td>\n",
       "      <td>0.842105</td>\n",
       "      <td>0.857143</td>\n",
       "      <td>1.250000</td>\n",
       "      <td>0.764706</td>\n",
       "      <td>0.333333</td>\n",
       "      <td>0.782609</td>\n",
       "      <td>0.809524</td>\n",
       "    </tr>\n",
       "    <tr>\n",
       "      <th>20</th>\n",
       "      <td>0.652174</td>\n",
       "      <td>1.111111</td>\n",
       "      <td>1.050000</td>\n",
       "      <td>1.210526</td>\n",
       "      <td>1.150000</td>\n",
       "      <td>1.526316</td>\n",
       "      <td>1.000000</td>\n",
       "      <td>0.347826</td>\n",
       "      <td>0.952381</td>\n",
       "      <td>1.294118</td>\n",
       "    </tr>\n",
       "  </tbody>\n",
       "</table>\n",
       "</div>"
      ],
      "text/plain": [
       "Drug       Capomulin  Ceftamin  Infubinol  Ketapril  Naftisol   Placebo  \\\n",
       "Timepoint                                                                 \n",
       "0           0.000000  0.000000   0.000000  0.000000  0.000000  0.000000   \n",
       "5           0.160000  0.380952   0.280000  0.304348  0.260870  0.375000   \n",
       "10          0.320000  0.600000   0.666667  0.590909  0.523810  0.833333   \n",
       "15          0.375000  0.789474   0.904762  0.842105  0.857143  1.250000   \n",
       "20          0.652174  1.111111   1.050000  1.210526  1.150000  1.526316   \n",
       "\n",
       "Drug       Propriva  Ramicane  Stelasyn  Zoniferol  \n",
       "Timepoint                                           \n",
       "0          0.000000  0.000000  0.000000   0.000000  \n",
       "5          0.320000  0.120000  0.240000   0.166667  \n",
       "10         0.565217  0.250000  0.478261   0.500000  \n",
       "15         0.764706  0.333333  0.782609   0.809524  \n",
       "20         1.000000  0.347826  0.952381   1.294118  "
      ]
     },
     "execution_count": 61,
     "metadata": {},
     "output_type": "execute_result"
    }
   ],
   "source": [
    "# Minor Data Munging to Re-Format the Data Frames\n",
    "# Preview that Reformatting worked\n",
    "\n",
    "meta_plot_pre = meta_dataframe.unstack(0)\n",
    "meta_plot_dataframe = meta_plot_pre[\"Metastatic Sites\"]\n",
    "meta_plot_dataframe.head()\n"
   ]
  },
  {
   "cell_type": "code",
   "execution_count": 63,
   "metadata": {},
   "outputs": [
    {
     "ename": "KeyError",
     "evalue": "'Ceftamin'",
     "output_type": "error",
     "traceback": [
      "\u001b[1;31m---------------------------------------------------------------------------\u001b[0m",
      "\u001b[1;31mKeyError\u001b[0m                                  Traceback (most recent call last)",
      "\u001b[1;32mC:\\ProgramData\\Anaconda3\\lib\\site-packages\\pandas\\core\\indexes\\base.py\u001b[0m in \u001b[0;36mget_loc\u001b[1;34m(self, key, method, tolerance)\u001b[0m\n\u001b[0;32m   3077\u001b[0m             \u001b[1;32mtry\u001b[0m\u001b[1;33m:\u001b[0m\u001b[1;33m\u001b[0m\u001b[1;33m\u001b[0m\u001b[0m\n\u001b[1;32m-> 3078\u001b[1;33m                 \u001b[1;32mreturn\u001b[0m \u001b[0mself\u001b[0m\u001b[1;33m.\u001b[0m\u001b[0m_engine\u001b[0m\u001b[1;33m.\u001b[0m\u001b[0mget_loc\u001b[0m\u001b[1;33m(\u001b[0m\u001b[0mkey\u001b[0m\u001b[1;33m)\u001b[0m\u001b[1;33m\u001b[0m\u001b[1;33m\u001b[0m\u001b[0m\n\u001b[0m\u001b[0;32m   3079\u001b[0m             \u001b[1;32mexcept\u001b[0m \u001b[0mKeyError\u001b[0m\u001b[1;33m:\u001b[0m\u001b[1;33m\u001b[0m\u001b[1;33m\u001b[0m\u001b[0m\n",
      "\u001b[1;32mpandas\\_libs\\index.pyx\u001b[0m in \u001b[0;36mpandas._libs.index.IndexEngine.get_loc\u001b[1;34m()\u001b[0m\n",
      "\u001b[1;32mpandas\\_libs\\index.pyx\u001b[0m in \u001b[0;36mpandas._libs.index.IndexEngine.get_loc\u001b[1;34m()\u001b[0m\n",
      "\u001b[1;32mpandas\\_libs\\hashtable_class_helper.pxi\u001b[0m in \u001b[0;36mpandas._libs.hashtable.PyObjectHashTable.get_item\u001b[1;34m()\u001b[0m\n",
      "\u001b[1;32mpandas\\_libs\\hashtable_class_helper.pxi\u001b[0m in \u001b[0;36mpandas._libs.hashtable.PyObjectHashTable.get_item\u001b[1;34m()\u001b[0m\n",
      "\u001b[1;31mKeyError\u001b[0m: 'Ceftamin'",
      "\nDuring handling of the above exception, another exception occurred:\n",
      "\u001b[1;31mKeyError\u001b[0m                                  Traceback (most recent call last)",
      "\u001b[1;32m<ipython-input-63-62d2f1bedf17>\u001b[0m in \u001b[0;36m<module>\u001b[1;34m\u001b[0m\n\u001b[0;32m      5\u001b[0m \u001b[1;33m\u001b[0m\u001b[0m\n\u001b[0;32m      6\u001b[0m \u001b[0merror\u001b[0m \u001b[1;33m=\u001b[0m \u001b[0mmre_dataframe\u001b[0m\u001b[1;33m[\u001b[0m\u001b[1;34m\"Metastatic Sites\"\u001b[0m\u001b[1;33m]\u001b[0m\u001b[1;33m[\u001b[0m\u001b[1;34m\"Ceftamin\"\u001b[0m\u001b[1;33m]\u001b[0m\u001b[1;33m\u001b[0m\u001b[1;33m\u001b[0m\u001b[0m\n\u001b[1;32m----> 7\u001b[1;33m cap=plt.errorbar(x_axis, mre_dataframe[\"Ceftamin\"], yerr=error/10,\n\u001b[0m\u001b[0;32m      8\u001b[0m                    fmt=\"o\", ls=\"dashed\", linewidth=1, alpha=1, capsize=3,color =\"red\",ecolor=\"purple\")\n\u001b[0;32m      9\u001b[0m \u001b[0mplt\u001b[0m\u001b[1;33m.\u001b[0m\u001b[0mshow\u001b[0m\u001b[1;33m(\u001b[0m\u001b[1;33m)\u001b[0m\u001b[1;33m\u001b[0m\u001b[1;33m\u001b[0m\u001b[0m\n",
      "\u001b[1;32mC:\\ProgramData\\Anaconda3\\lib\\site-packages\\pandas\\core\\frame.py\u001b[0m in \u001b[0;36m__getitem__\u001b[1;34m(self, key)\u001b[0m\n\u001b[0;32m   2686\u001b[0m             \u001b[1;32mreturn\u001b[0m \u001b[0mself\u001b[0m\u001b[1;33m.\u001b[0m\u001b[0m_getitem_multilevel\u001b[0m\u001b[1;33m(\u001b[0m\u001b[0mkey\u001b[0m\u001b[1;33m)\u001b[0m\u001b[1;33m\u001b[0m\u001b[1;33m\u001b[0m\u001b[0m\n\u001b[0;32m   2687\u001b[0m         \u001b[1;32melse\u001b[0m\u001b[1;33m:\u001b[0m\u001b[1;33m\u001b[0m\u001b[1;33m\u001b[0m\u001b[0m\n\u001b[1;32m-> 2688\u001b[1;33m             \u001b[1;32mreturn\u001b[0m \u001b[0mself\u001b[0m\u001b[1;33m.\u001b[0m\u001b[0m_getitem_column\u001b[0m\u001b[1;33m(\u001b[0m\u001b[0mkey\u001b[0m\u001b[1;33m)\u001b[0m\u001b[1;33m\u001b[0m\u001b[1;33m\u001b[0m\u001b[0m\n\u001b[0m\u001b[0;32m   2689\u001b[0m \u001b[1;33m\u001b[0m\u001b[0m\n\u001b[0;32m   2690\u001b[0m     \u001b[1;32mdef\u001b[0m \u001b[0m_getitem_column\u001b[0m\u001b[1;33m(\u001b[0m\u001b[0mself\u001b[0m\u001b[1;33m,\u001b[0m \u001b[0mkey\u001b[0m\u001b[1;33m)\u001b[0m\u001b[1;33m:\u001b[0m\u001b[1;33m\u001b[0m\u001b[1;33m\u001b[0m\u001b[0m\n",
      "\u001b[1;32mC:\\ProgramData\\Anaconda3\\lib\\site-packages\\pandas\\core\\frame.py\u001b[0m in \u001b[0;36m_getitem_column\u001b[1;34m(self, key)\u001b[0m\n\u001b[0;32m   2693\u001b[0m         \u001b[1;31m# get column\u001b[0m\u001b[1;33m\u001b[0m\u001b[1;33m\u001b[0m\u001b[1;33m\u001b[0m\u001b[0m\n\u001b[0;32m   2694\u001b[0m         \u001b[1;32mif\u001b[0m \u001b[0mself\u001b[0m\u001b[1;33m.\u001b[0m\u001b[0mcolumns\u001b[0m\u001b[1;33m.\u001b[0m\u001b[0mis_unique\u001b[0m\u001b[1;33m:\u001b[0m\u001b[1;33m\u001b[0m\u001b[1;33m\u001b[0m\u001b[0m\n\u001b[1;32m-> 2695\u001b[1;33m             \u001b[1;32mreturn\u001b[0m \u001b[0mself\u001b[0m\u001b[1;33m.\u001b[0m\u001b[0m_get_item_cache\u001b[0m\u001b[1;33m(\u001b[0m\u001b[0mkey\u001b[0m\u001b[1;33m)\u001b[0m\u001b[1;33m\u001b[0m\u001b[1;33m\u001b[0m\u001b[0m\n\u001b[0m\u001b[0;32m   2696\u001b[0m \u001b[1;33m\u001b[0m\u001b[0m\n\u001b[0;32m   2697\u001b[0m         \u001b[1;31m# duplicate columns & possible reduce dimensionality\u001b[0m\u001b[1;33m\u001b[0m\u001b[1;33m\u001b[0m\u001b[1;33m\u001b[0m\u001b[0m\n",
      "\u001b[1;32mC:\\ProgramData\\Anaconda3\\lib\\site-packages\\pandas\\core\\generic.py\u001b[0m in \u001b[0;36m_get_item_cache\u001b[1;34m(self, item)\u001b[0m\n\u001b[0;32m   2487\u001b[0m         \u001b[0mres\u001b[0m \u001b[1;33m=\u001b[0m \u001b[0mcache\u001b[0m\u001b[1;33m.\u001b[0m\u001b[0mget\u001b[0m\u001b[1;33m(\u001b[0m\u001b[0mitem\u001b[0m\u001b[1;33m)\u001b[0m\u001b[1;33m\u001b[0m\u001b[1;33m\u001b[0m\u001b[0m\n\u001b[0;32m   2488\u001b[0m         \u001b[1;32mif\u001b[0m \u001b[0mres\u001b[0m \u001b[1;32mis\u001b[0m \u001b[1;32mNone\u001b[0m\u001b[1;33m:\u001b[0m\u001b[1;33m\u001b[0m\u001b[1;33m\u001b[0m\u001b[0m\n\u001b[1;32m-> 2489\u001b[1;33m             \u001b[0mvalues\u001b[0m \u001b[1;33m=\u001b[0m \u001b[0mself\u001b[0m\u001b[1;33m.\u001b[0m\u001b[0m_data\u001b[0m\u001b[1;33m.\u001b[0m\u001b[0mget\u001b[0m\u001b[1;33m(\u001b[0m\u001b[0mitem\u001b[0m\u001b[1;33m)\u001b[0m\u001b[1;33m\u001b[0m\u001b[1;33m\u001b[0m\u001b[0m\n\u001b[0m\u001b[0;32m   2490\u001b[0m             \u001b[0mres\u001b[0m \u001b[1;33m=\u001b[0m \u001b[0mself\u001b[0m\u001b[1;33m.\u001b[0m\u001b[0m_box_item_values\u001b[0m\u001b[1;33m(\u001b[0m\u001b[0mitem\u001b[0m\u001b[1;33m,\u001b[0m \u001b[0mvalues\u001b[0m\u001b[1;33m)\u001b[0m\u001b[1;33m\u001b[0m\u001b[1;33m\u001b[0m\u001b[0m\n\u001b[0;32m   2491\u001b[0m             \u001b[0mcache\u001b[0m\u001b[1;33m[\u001b[0m\u001b[0mitem\u001b[0m\u001b[1;33m]\u001b[0m \u001b[1;33m=\u001b[0m \u001b[0mres\u001b[0m\u001b[1;33m\u001b[0m\u001b[1;33m\u001b[0m\u001b[0m\n",
      "\u001b[1;32mC:\\ProgramData\\Anaconda3\\lib\\site-packages\\pandas\\core\\internals.py\u001b[0m in \u001b[0;36mget\u001b[1;34m(self, item, fastpath)\u001b[0m\n\u001b[0;32m   4113\u001b[0m \u001b[1;33m\u001b[0m\u001b[0m\n\u001b[0;32m   4114\u001b[0m             \u001b[1;32mif\u001b[0m \u001b[1;32mnot\u001b[0m \u001b[0misna\u001b[0m\u001b[1;33m(\u001b[0m\u001b[0mitem\u001b[0m\u001b[1;33m)\u001b[0m\u001b[1;33m:\u001b[0m\u001b[1;33m\u001b[0m\u001b[1;33m\u001b[0m\u001b[0m\n\u001b[1;32m-> 4115\u001b[1;33m                 \u001b[0mloc\u001b[0m \u001b[1;33m=\u001b[0m \u001b[0mself\u001b[0m\u001b[1;33m.\u001b[0m\u001b[0mitems\u001b[0m\u001b[1;33m.\u001b[0m\u001b[0mget_loc\u001b[0m\u001b[1;33m(\u001b[0m\u001b[0mitem\u001b[0m\u001b[1;33m)\u001b[0m\u001b[1;33m\u001b[0m\u001b[1;33m\u001b[0m\u001b[0m\n\u001b[0m\u001b[0;32m   4116\u001b[0m             \u001b[1;32melse\u001b[0m\u001b[1;33m:\u001b[0m\u001b[1;33m\u001b[0m\u001b[1;33m\u001b[0m\u001b[0m\n\u001b[0;32m   4117\u001b[0m                 \u001b[0mindexer\u001b[0m \u001b[1;33m=\u001b[0m \u001b[0mnp\u001b[0m\u001b[1;33m.\u001b[0m\u001b[0marange\u001b[0m\u001b[1;33m(\u001b[0m\u001b[0mlen\u001b[0m\u001b[1;33m(\u001b[0m\u001b[0mself\u001b[0m\u001b[1;33m.\u001b[0m\u001b[0mitems\u001b[0m\u001b[1;33m)\u001b[0m\u001b[1;33m)\u001b[0m\u001b[1;33m[\u001b[0m\u001b[0misna\u001b[0m\u001b[1;33m(\u001b[0m\u001b[0mself\u001b[0m\u001b[1;33m.\u001b[0m\u001b[0mitems\u001b[0m\u001b[1;33m)\u001b[0m\u001b[1;33m]\u001b[0m\u001b[1;33m\u001b[0m\u001b[1;33m\u001b[0m\u001b[0m\n",
      "\u001b[1;32mC:\\ProgramData\\Anaconda3\\lib\\site-packages\\pandas\\core\\indexes\\base.py\u001b[0m in \u001b[0;36mget_loc\u001b[1;34m(self, key, method, tolerance)\u001b[0m\n\u001b[0;32m   3078\u001b[0m                 \u001b[1;32mreturn\u001b[0m \u001b[0mself\u001b[0m\u001b[1;33m.\u001b[0m\u001b[0m_engine\u001b[0m\u001b[1;33m.\u001b[0m\u001b[0mget_loc\u001b[0m\u001b[1;33m(\u001b[0m\u001b[0mkey\u001b[0m\u001b[1;33m)\u001b[0m\u001b[1;33m\u001b[0m\u001b[1;33m\u001b[0m\u001b[0m\n\u001b[0;32m   3079\u001b[0m             \u001b[1;32mexcept\u001b[0m \u001b[0mKeyError\u001b[0m\u001b[1;33m:\u001b[0m\u001b[1;33m\u001b[0m\u001b[1;33m\u001b[0m\u001b[0m\n\u001b[1;32m-> 3080\u001b[1;33m                 \u001b[1;32mreturn\u001b[0m \u001b[0mself\u001b[0m\u001b[1;33m.\u001b[0m\u001b[0m_engine\u001b[0m\u001b[1;33m.\u001b[0m\u001b[0mget_loc\u001b[0m\u001b[1;33m(\u001b[0m\u001b[0mself\u001b[0m\u001b[1;33m.\u001b[0m\u001b[0m_maybe_cast_indexer\u001b[0m\u001b[1;33m(\u001b[0m\u001b[0mkey\u001b[0m\u001b[1;33m)\u001b[0m\u001b[1;33m)\u001b[0m\u001b[1;33m\u001b[0m\u001b[1;33m\u001b[0m\u001b[0m\n\u001b[0m\u001b[0;32m   3081\u001b[0m \u001b[1;33m\u001b[0m\u001b[0m\n\u001b[0;32m   3082\u001b[0m         \u001b[0mindexer\u001b[0m \u001b[1;33m=\u001b[0m \u001b[0mself\u001b[0m\u001b[1;33m.\u001b[0m\u001b[0mget_indexer\u001b[0m\u001b[1;33m(\u001b[0m\u001b[1;33m[\u001b[0m\u001b[0mkey\u001b[0m\u001b[1;33m]\u001b[0m\u001b[1;33m,\u001b[0m \u001b[0mmethod\u001b[0m\u001b[1;33m=\u001b[0m\u001b[0mmethod\u001b[0m\u001b[1;33m,\u001b[0m \u001b[0mtolerance\u001b[0m\u001b[1;33m=\u001b[0m\u001b[0mtolerance\u001b[0m\u001b[1;33m)\u001b[0m\u001b[1;33m\u001b[0m\u001b[1;33m\u001b[0m\u001b[0m\n",
      "\u001b[1;32mpandas\\_libs\\index.pyx\u001b[0m in \u001b[0;36mpandas._libs.index.IndexEngine.get_loc\u001b[1;34m()\u001b[0m\n",
      "\u001b[1;32mpandas\\_libs\\index.pyx\u001b[0m in \u001b[0;36mpandas._libs.index.IndexEngine.get_loc\u001b[1;34m()\u001b[0m\n",
      "\u001b[1;32mpandas\\_libs\\hashtable_class_helper.pxi\u001b[0m in \u001b[0;36mpandas._libs.hashtable.PyObjectHashTable.get_item\u001b[1;34m()\u001b[0m\n",
      "\u001b[1;32mpandas\\_libs\\hashtable_class_helper.pxi\u001b[0m in \u001b[0;36mpandas._libs.hashtable.PyObjectHashTable.get_item\u001b[1;34m()\u001b[0m\n",
      "\u001b[1;31mKeyError\u001b[0m: 'Ceftamin'"
     ]
    },
    {
     "data": {
      "text/plain": [
       "<Figure size 720x504 with 0 Axes>"
      ]
     },
     "metadata": {},
     "output_type": "display_data"
    }
   ],
   "source": [
    "x_axis = [0,5,10,15,20,25,30,35,40,45]\n",
    "x_limit = 45\n",
    "plt.figure(figsize=(10,7))\n",
    "#plt.plot(x_axis, tumor_plot_dataframe[\"Capomulin\"])\n",
    "    \n",
    "error = mre_dataframe[\"Metastatic Sites\"][\"Ceftamin\"]\n",
    "cap=plt.errorbar(x_axis, mre_dataframe[\"Ceftamin\"], yerr=error/10,\n",
    "                   fmt=\"o\", ls=\"dashed\", linewidth=1, alpha=1, capsize=3,color =\"red\",ecolor=\"purple\")\n",
    "plt.show()"
   ]
  },
  {
   "cell_type": "code",
   "execution_count": 57,
   "metadata": {},
   "outputs": [
    {
     "ename": "SyntaxError",
     "evalue": "invalid syntax (<ipython-input-57-175862094809>, line 3)",
     "output_type": "error",
     "traceback": [
      "\u001b[1;36m  File \u001b[1;32m\"<ipython-input-57-175862094809>\"\u001b[1;36m, line \u001b[1;32m3\u001b[0m\n\u001b[1;33m    error = mre_dataframe[\"Metastatic Sites\"][\"Capomulin\"]\u001b[0m\n\u001b[1;37m        ^\u001b[0m\n\u001b[1;31mSyntaxError\u001b[0m\u001b[1;31m:\u001b[0m invalid syntax\n"
     ]
    }
   ],
   "source": [
    "x_axis = [0,5,10,15,20,25,30,35,40,45]\n",
    "plt.figure(figsize=(10,7)\n",
    "error = mre_dataframe[\"Metastatic Sites\"][\"Capomulin\"]\n",
    "cap = plt.errorbar(x_axis, mre_dataframe[\"Capomulin\"], yerr=error/10,\n",
    "                   fmt=\"o\", ls=\"dashed\", linewidth=1, alpha=1, capsize=3,color =\"red\",ecolor=\"purple\")\n",
    "plt.show()           \n",
    "           "
   ]
  },
  {
   "cell_type": "code",
   "execution_count": 56,
   "metadata": {
    "scrolled": true
   },
   "outputs": [
    {
     "ename": "SyntaxError",
     "evalue": "invalid syntax (<ipython-input-56-741e6819a6b7>, line 7)",
     "output_type": "error",
     "traceback": [
      "\u001b[1;36m  File \u001b[1;32m\"<ipython-input-56-741e6819a6b7>\"\u001b[1;36m, line \u001b[1;32m7\u001b[0m\n\u001b[1;33m    error = mre_dataframe[\"Metastatic Sites\"][\"Capomulin\"]\u001b[0m\n\u001b[1;37m        ^\u001b[0m\n\u001b[1;31mSyntaxError\u001b[0m\u001b[1;31m:\u001b[0m invalid syntax\n"
     ]
    }
   ],
   "source": [
    "# Generate the Plot (with Error Bars)\n",
    "\n",
    "x_axis = [0,5,10,15,20,25,30,35,40,45]\n",
    "x_limit = 45\n",
    "plt.figure(figsize=(10,7)\n",
    "\n",
    "error = mre_dataframe[\"Metastatic Sites\"][\"Capomulin\"]\n",
    "cap=plt.errorbar(x_axis, mre_dataframe[\"Capomulin\"], yerr=error/10,\n",
    "                   fmt=\"o\", ls=\"dashed\", linewidth=1, alpha=1, capsize=3,color =\"red\",ecolor=\"purple\")\n",
    "                \n",
    "\n",
    "# error = tumor_dataframe[\"Tumor Volume (mm3)\"][\"Infubinol\"]\n",
    "# infu=plt.errorbar(x_axis, tumor_plot_dataframe[\"Infubinol\"], yerr=error/10, \n",
    "#                     fmt=\"^\", ls=\"dashed\", elinewidth=1, alpha=1, capsize=3,color =\"blue\",ecolor=\"indigo\")\n",
    "\n",
    "# error = tumor_dataframe[\"Tumor Volume (mm3)\"][\"Ketapril\"]\n",
    "# keta=plt.errorbar(x_axis, tumor_plot_dataframe[\"Ketapril\"], yerr=error/10, \n",
    "#                     fmt=\"s\", ls=\"dashed\", elinewidth=1, alpha=1, capsize=3,color = \"green\",ecolor=\"red\")\n",
    "\n",
    "\n",
    "# error = tumor_dataframe[\"Tumor Volume (mm3)\"][\"Placebo\"]\n",
    "# plac=plt.errorbar(x_axis, tumor_plot_dataframe[\"Placebo\"], yerr=error/10,\n",
    "#                     fmt=\"D\", ls=\"dashed\", elinewidth=1, alpha=1, capsize=3,color=\"pink\",ecolor = \"black\")           \n",
    "\n",
    "# error2 = mre_dataframe[\"Metastatic Sites\"][\"Capomulin\"]\n",
    "# cap2 = plt.errorbar(x_axis, meta_plot_dataframe[\"Capomulin\"],yerr=error2, \n",
    "#                      fmt=\"o\", ls=\"dashed\", linewidth=1, alpha=1, capsize=3)\n",
    "\n",
    "# error2 = mre_dataframe[\"Metastatic Sites\"][\"Infubinol\"]\n",
    "# infu2 = plt.errorbar(x_axis, meta_plot_dataframe[\"Infubinol\"],yerr=error2,\n",
    "#                        fmt=\"^\", ls=\"dashed\", linewidth=1, alpha=1, capsize=3)\n",
    "\n",
    "# error2 = mre_dataframe[\"Metastatic Sites\"][\"Ketapril\"]\n",
    "# keta2 = plt.errorbar(x_axis, meta_plot_dataframe[\"Ketapril\"],yerr=error2, \n",
    "#                          fmt=\"s\", ls=\"dashed\", linewidth=1, alpha=1, capsize=3)\n",
    "                                                  \n",
    "\n",
    "# error2 = mre_dataframe[\"Metastatic Sites\"][\"Placebo\"]\n",
    "# plac2 = plt.errorbar(x_axis, meta_plot_dataframe[\"Placebo\"],yerr=error2, \n",
    "#                          fmt=\"D\", ls=\"dashed\", linewidth=1, alpha=1, capsize=3)\n",
    "                                                \n",
    "\n",
    "plt.ylim(0, 4)\n",
    "plt.xlim(0, 45)\n",
    "\n",
    "plt.title(\"Metastatic Spread During Treatment\", fontsize=18)\n",
    "plt.xlabel(\"Treatment Duration in Days, fontsize=13)\n",
    "plt.ylabel(\"Metastatic Sites\", fontsize=13)\n",
    "\n",
    "plt.grid(linestyle=\"dashed\")\n",
    "plt.legend((cap, infu, keta, plac), (\"Capomulin\", \"Infubinol\", \"Ketapril\", \"Placebo\"),\n",
    "           fontsize=11)\n",
    "plt.show()\n",
    "\n",
    "# Save the Figure\n",
    "plt.savefig(\"errorbar2.png\")\n",
    "\n"
   ]
  },
  {
   "cell_type": "code",
   "execution_count": null,
   "metadata": {},
   "outputs": [],
   "source": [
    "## Survival Rates"
   ]
  },
  {
   "cell_type": "code",
   "execution_count": 29,
   "metadata": {},
   "outputs": [
    {
     "data": {
      "text/html": [
       "<div>\n",
       "<style scoped>\n",
       "    .dataframe tbody tr th:only-of-type {\n",
       "        vertical-align: middle;\n",
       "    }\n",
       "\n",
       "    .dataframe tbody tr th {\n",
       "        vertical-align: top;\n",
       "    }\n",
       "\n",
       "    .dataframe thead th {\n",
       "        text-align: right;\n",
       "    }\n",
       "</style>\n",
       "<table border=\"1\" class=\"dataframe\">\n",
       "  <thead>\n",
       "    <tr style=\"text-align: right;\">\n",
       "      <th></th>\n",
       "      <th></th>\n",
       "      <th>Mouse Count</th>\n",
       "    </tr>\n",
       "    <tr>\n",
       "      <th>Drug</th>\n",
       "      <th>Timepoint</th>\n",
       "      <th></th>\n",
       "    </tr>\n",
       "  </thead>\n",
       "  <tbody>\n",
       "    <tr>\n",
       "      <th rowspan=\"5\" valign=\"top\">Capomulin</th>\n",
       "      <th>0</th>\n",
       "      <td>25</td>\n",
       "    </tr>\n",
       "    <tr>\n",
       "      <th>5</th>\n",
       "      <td>25</td>\n",
       "    </tr>\n",
       "    <tr>\n",
       "      <th>10</th>\n",
       "      <td>25</td>\n",
       "    </tr>\n",
       "    <tr>\n",
       "      <th>15</th>\n",
       "      <td>24</td>\n",
       "    </tr>\n",
       "    <tr>\n",
       "      <th>20</th>\n",
       "      <td>23</td>\n",
       "    </tr>\n",
       "  </tbody>\n",
       "</table>\n",
       "</div>"
      ],
      "text/plain": [
       "                     Mouse Count\n",
       "Drug      Timepoint             \n",
       "Capomulin 0                   25\n",
       "          5                   25\n",
       "          10                  25\n",
       "          15                  24\n",
       "          20                  23"
      ]
     },
     "execution_count": 29,
     "metadata": {},
     "output_type": "execute_result"
    }
   ],
   "source": [
    "# Store the Count of Mice Grouped by Drug and Timepoint (W can pass any metric)\n",
    "# Convert to DataFrame\n",
    "# Preview DataFrame\n",
    "\n",
    "mouse = sarcoma_data.groupby([\"Drug\", \"Timepoint\"])[\"Mouse ID\"].nunique()\n",
    "mouse = mouse.to_frame()\n",
    "mouse = mouse.rename(columns={\"Mouse ID\": \"Mouse Count\"})\n",
    "mouse.head()"
   ]
  },
  {
   "cell_type": "code",
   "execution_count": null,
   "metadata": {},
   "outputs": [],
   "source": [
    "# Minor Data Munging to Re-Format the Data Frames\n",
    "mouse_plot = mouse.unstack(0)\n",
    "mouse_dataframe = mouse_plot[\"Mouse Count\"]\n",
    "mouse_dataframe\n",
    "# Preview the Data Frame\n"
   ]
  },
  {
   "cell_type": "code",
   "execution_count": 53,
   "metadata": {
    "scrolled": true
   },
   "outputs": [
    {
     "data": {
      "image/png": "[encoded data removed]",
      "text/plain": [
       "<Figure size 720x504 with 1 Axes>"
      ]
     },
     "metadata": {
      "needs_background": "light"
     },
     "output_type": "display_data"
    },
    {
     "data": {
      "text/plain": [
       "<Figure size 432x288 with 0 Axes>"
      ]
     },
     "metadata": {},
     "output_type": "display_data"
    }
   ],
   "source": [
    "# Generate the Plot (Accounting for percentages)\n",
    "\n",
    "plt.figure(figsize=(10,7))\n",
    "\n",
    "cap3 = plt.errorbar(x_axis, (mouse_dataframe[\"Capomulin\"]/25*100), \n",
    "                     fmt=\"o\", ls=\"dashed\", linewidth=1, alpha=1, capsize=3,color=\"red\")\n",
    "infu3 = plt.errorbar(x_axis, (mouse_dataframe[\"Infubinol\"]/25*100), \n",
    "                      fmt=\"^\", ls=\"dashed\", linewidth=1, alpha=1, capsize=3,color=\"blue\")\n",
    "keta3 = plt.errorbar(x_axis, (mouse_dataframe[\"Ketapril\"]/25*100), \n",
    "                      fmt=\"s\", ls=\"dashed\", linewidth=1, alpha=1, capsize=3,color=\"green\")\n",
    "plac3 = plt.errorbar(x_axis, (mouse_dataframe[\"Placebo\"]/25*100),  \n",
    "                      fmt=\"D\", ls=\"dashed\", linewidth=1, alpha=1, capsize=3,color=\"black\")\n",
    "\n",
    "plt.ylim(40, 100)\n",
    "plt.xlim(0, 45)\n",
    "\n",
    "plt.title(\"Survival During Treatment\", fontsize=18)\n",
    "plt.xlabel(\"Time (in Days)\", fontsize=13)\n",
    "plt.ylabel(\"Survival Rate (in %)\", fontsize=13)\n",
    "\n",
    "plt.grid(linestyle=\"dashed\")\n",
    "plt.legend((cap3, infu3, keta3, plac3), (\"Capomulin\", \"Infubinol\",\n",
    "                                          \"Ketapril\", \"Placebo\"), fontsize=11)\n",
    "plt.show()\n",
    "   \n",
    "plt.savefig(\"fig3.jpg\")\n",
    "\n",
    "\n"
   ]
  },
  {
   "cell_type": "markdown",
   "metadata": {},
   "source": [
    "## Summary Bar Graph"
   ]
  },
  {
   "cell_type": "code",
   "execution_count": 32,
   "metadata": {},
   "outputs": [
    {
     "data": {
      "text/html": [
       "<div>\n",
       "<style scoped>\n",
       "    .dataframe tbody tr th:only-of-type {\n",
       "        vertical-align: middle;\n",
       "    }\n",
       "\n",
       "    .dataframe tbody tr th {\n",
       "        vertical-align: top;\n",
       "    }\n",
       "\n",
       "    .dataframe thead th {\n",
       "        text-align: right;\n",
       "    }\n",
       "</style>\n",
       "<table border=\"1\" class=\"dataframe\">\n",
       "  <thead>\n",
       "    <tr style=\"text-align: right;\">\n",
       "      <th></th>\n",
       "      <th>Drug</th>\n",
       "      <th>Percent Change</th>\n",
       "    </tr>\n",
       "  </thead>\n",
       "  <tbody>\n",
       "    <tr>\n",
       "      <th>0</th>\n",
       "      <td>Capomulin</td>\n",
       "      <td>2.719950</td>\n",
       "    </tr>\n",
       "    <tr>\n",
       "      <th>1</th>\n",
       "      <td>Infubinol</td>\n",
       "      <td>2.543172</td>\n",
       "    </tr>\n",
       "    <tr>\n",
       "      <th>2</th>\n",
       "      <td>Ketapril</td>\n",
       "      <td>3.229303</td>\n",
       "    </tr>\n",
       "    <tr>\n",
       "      <th>3</th>\n",
       "      <td>Placebo</td>\n",
       "      <td>3.003835</td>\n",
       "    </tr>\n",
       "  </tbody>\n",
       "</table>\n",
       "</div>"
      ],
      "text/plain": [
       "        Drug  Percent Change\n",
       "0  Capomulin        2.719950\n",
       "1  Infubinol        2.543172\n",
       "2   Ketapril        3.229303\n",
       "3    Placebo        3.003835"
      ]
     },
     "execution_count": 32,
     "metadata": {},
     "output_type": "execute_result"
    }
   ],
   "source": [
    "# Calculate the percent changes for each drug\n",
    "\n",
    "capchange = ((tumor_plot_dataframe[\"Capomulin\"][45] - tumor_plot_dataframe[\"Capomulin\"][0])/45)*100\n",
    "ceftchange = ((tumor_plot_dataframe[\"Ceftamin\"][45] - tumor_plot_dataframe[\"Ceftamin\"][0])/45)*100\n",
    "infuchange = ((tumor_plot_dataframe[\"Infubinol\"][45] - tumor_plot_dataframe[\"Infubinol\"][0])/45)*100\n",
    "ketachange = ((tumor_plot_dataframe[\"Ketapril\"][45] - tumor_plot_dataframe[\"Ketapril\"][0])/45)*100\n",
    "naftchange = ((tumor_plot_dataframe[\"Naftisol\"][45] - tumor_plot_dataframe[\"Naftisol\"][0])/45)*100\n",
    "placchange = ((tumor_plot_dataframe[\"Placebo\"][45] - tumor_plot_dataframe[\"Placebo\"][0])/45)*100\n",
    "propchange = ((tumor_plot_dataframe[\"Propriva\"][45] - tumor_plot_dataframe[\"Propriva\"][0])/45)*100\n",
    "ramichange = ((tumor_plot_dataframe[\"Ramicane\"][45] - tumor_plot_dataframe[\"Ramicane\"][0])/45)*100\n",
    "stelchange = ((tumor_plot_dataframe[\"Stelasyn\"][45] - tumor_plot_dataframe[\"Stelasyn\"][0])/45)*100\n",
    "zonichange = ((tumor_plot_dataframe[\"Zoniferol\"][45] - tumor_plot_dataframe[\"Zoniferol\"][0])/45)*100\n",
    "\n",
    "drug_change_dataframe = pd.DataFrame({\"Drug\": [\"Capomulin\", \"Infubinol\", \"Ketapril\", \"Placebo\"],\n",
    "                              \"Percent Change\": [capchange, infuchange, ketachange, placchange]\n",
    "                              })\n",
    "drug_change_dataframe\n",
    "\n",
    "# Display the data to confirm  \n",
    "\n"
   ]
  },
  {
   "cell_type": "code",
   "execution_count": 33,
   "metadata": {},
   "outputs": [
    {
     "data": {
      "image/png": "[encoded data removed]",
      "text/plain": [
       "<Figure size 576x360 with 1 Axes>"
      ]
     },
     "metadata": {
      "needs_background": "light"
     },
     "output_type": "display_data"
    },
    {
     "data": {
      "text/plain": [
       "<Figure size 432x288 with 0 Axes>"
      ]
     },
     "metadata": {},
     "output_type": "display_data"
    }
   ],
   "source": [
    "# Store all Relevant Percent Changes into a Tuple\n",
    "# Splice the data between passing and failing drugs\n",
    "# Orient widths. Add labels, tick marks, etc. \n",
    "# Use functions to label the percentages of changes\n",
    "# Call functions to implement the function calls\n",
    "# Save the Figurex_axis=np.arange(0,4,1)\n",
    "\n",
    "plt.figure(figsize=(8,5))\n",
    "    \n",
    "rects1 = plt.bar(0, (drug_change_dataframe[\"Percent Change\"][0])*20, color='g', alpha=1, align=\"edge\",\n",
    "                 ec=\"black\", width=1)\n",
    "rects2 = plt.bar(1, (drug_change_dataframe[\"Percent Change\"][1])*20, color='r', alpha=1, align=\"edge\",\n",
    "                 ec=\"black\", width=1)\n",
    "rects3 = plt.bar(2, (drug_change_dataframe[\"Percent Change\"][2])*20, color='r', alpha=1, align=\"edge\",\n",
    "                 ec=\"black\", width=1)\n",
    "rects4 = plt.bar(3, (drug_change_dataframe[\"Percent Change\"][3])*20, color='r', alpha=1, align=\"edge\",\n",
    "                 ec=\"black\", width=1)\n",
    "tick_locations = [value+0.5 for value in x_axis]\n",
    "plt.grid(linestyle=\"dashed\")\n",
    "plt.xticks(tick_locations, drug_change_dataframe[\"Drug\"])\n",
    "\n",
    "plt.xlim(0, 4)\n",
    "plt.ylim(-30, 70)\n",
    "\n",
    "plt.title(\"Tumor Change Over 45 Day Treatment\", fontsize=18)\n",
    "plt.ylabel(\"% Tumor Volume Change\")\n",
    "\n",
    "def autolabel(rects):\n",
    "    for rect in rects:\n",
    "        height = rect.get_height()\n",
    "        plt.text(rect.get_x() + rect.get_width()/2., -8,\n",
    "                '%d' % int(height) + \"%\", \n",
    "                ha='center', va='bottom', color='white', fontsize=13)\n",
    "\n",
    "autolabel(rects1)\n",
    "\n",
    "def autolabel(rects):\n",
    "    for rect in rects:\n",
    "        height = rect.get_height()\n",
    "        plt.text(rect.get_x() + rect.get_width()/2., 2,\n",
    "                '%d' % int(height) + \"%\", \n",
    "               ha='center', va='bottom', color='white', fontsize=13)\n",
    "\n",
    "autolabel(rects2)\n",
    "autolabel(rects3)\n",
    "autolabel(rects4)\n",
    "\n",
    "plt.show()\n",
    "\n",
    "plt.savefig(\"summary bar graph.png\")\n"
   ]
  }
 ],
 "metadata": {
  "anaconda-cloud": {},
  "kernelspec": {
   "display_name": "Python 3",
   "language": "python",
   "name": "python3"
  },
  "language_info": {
   "codemirror_mode": {
    "name": "ipython",
    "version": 3
   },
   "file_extension": ".py",
   "mimetype": "text/x-python",
   "name": "python",
   "nbconvert_exporter": "python",
   "pygments_lexer": "ipython3",
   "version": "3.7.1"
  }
 },
 "nbformat": 4,
 "nbformat_minor": 1
}
